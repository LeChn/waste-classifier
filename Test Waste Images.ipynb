{
 "cells": [
  {
   "cell_type": "code",
   "execution_count": 68,
   "metadata": {},
   "outputs": [],
   "source": [
    "import os\n",
    "import json\n",
    "for file in os.listdir(\"./imageLabel/.\"):\n",
    "    if(file.endswith(\")\")):\n",
    "        #data = json.loads(open('./imageLabel/' + file + \"/data_file.json\").read())\n",
    "        if os.path.isfile('./imageLabel/' + file + \"/data_file.json\"):\n",
    "            data = json.loads(open('./imageLabel/' + file + \"/data_file.json\").read())\n",
    "            #data[\"folder_location\"] = os.getcwd() + '/imageLabel/' + file\n",
    "            data[\"folder_location\"] = '/Users/lechn/Desktop/jasonTab/' + file\n",
    "            data[\"image_location\"] = '/Users/lechn/Desktop/East Team S2 2/' + file + \".jpg\"\n",
    "            with open('./imageLabel/' + file + \"/data_file.json\", \"w\") as write_file:\n",
    "                json.dump(data, write_file)"
   ]
  },
  {
   "cell_type": "code",
   "execution_count": 69,
   "metadata": {},
   "outputs": [
    {
     "name": "stdout",
     "output_type": "stream",
     "text": [
      "3.6.5 (default, Jun 17 2018, 12:13:06) \n",
      "[GCC 4.2.1 Compatible Apple LLVM 9.1.0 (clang-902.0.39.2)]\n"
     ]
    }
   ],
   "source": [
    "import pandas as pd\n",
    "import tensorflow as tf\n",
    "import sys\n",
    "print(sys.version)\n",
    "import numpy as np\n",
    "from keras.utils import to_categorical\n",
    "import matplotlib.pyplot as plt\n",
    "import scipy\n",
    "from ipywidgets import interact, widgets\n",
    "from scipy import stats\n",
    "import seaborn as sns\n",
    "import os\n",
    "import json\n",
    "from pprint import pprint\n",
    "import cv2"
   ]
  },
  {
   "cell_type": "code",
   "execution_count": 72,
   "metadata": {},
   "outputs": [
    {
     "name": "stdout",
     "output_type": "stream",
     "text": [
      "Extracting labels from file A (108)\n"
     ]
    }
   ],
   "source": [
    "numGrids = 12\n",
    "features = []\n",
    "y = []\n",
    "for file in os.listdir(\"./imageLabel/.\"):\n",
    "    if(file.endswith(\")\")):\n",
    "        print(\"Extracting labels from file \" + file)\n",
    "        img = cv2.imread(\"../../imagesDataset/\" + file + \".jpg\")\n",
    "        height, width, channels = img.shape\n",
    "        gheight, gwidth = int(height/numGrids) , int(width/numGrids)\n",
    "        for index in range(numGrids**2):\n",
    "            rowIndex = index % numGrids\n",
    "            colIndex = int(index / numGrids)\n",
    "            grid = img[rowIndex * gheight : (rowIndex + 1) * gheight, colIndex * gwidth : (colIndex + 1) * gwidth, :]\n",
    "            blur = cv2.resize(img, (256, 256))\n",
    "\n",
    "            #feature extraction\n",
    "            featureList = []\n",
    "            gridRed = grid[:,:,0]\n",
    "            gridGreen = grid[:,:,1]\n",
    "            gridBlue = grid[:,:,2]\n",
    "            rbar = np.average(gridRed)\n",
    "            gbar = np.average(gridGreen)\n",
    "            bbar = np.average(gridBlue)\n",
    "            featureList.append(rbar)\n",
    "            featureList.append(gbar)\n",
    "            featureList.append(bbar)\n",
    "            featureList += np.bincount(np.ravel((gridRed/32).astype(int)), minlength = 8).tolist()\n",
    "            featureList += np.bincount(np.ravel((gridGreen/32).astype(int)), minlength = 8).tolist()\n",
    "            featureList += np.bincount(np.ravel((gridBlue/32).astype(int)), minlength = 8).tolist()\n",
    "\n",
    "            features.append(featureList)\n",
    "    break\n",
    "                    \n",
    "                    \n",
    "                    "
   ]
  },
  {
   "cell_type": "code",
   "execution_count": null,
   "metadata": {},
   "outputs": [
    {
     "data": {
      "text/plain": [
       "<matplotlib.image.AxesImage at 0x12eb30828>"
      ]
     },
     "execution_count": 81,
     "metadata": {},
     "output_type": "execute_result"
    }
   ],
   "source": [
    "plt.imshow(img)"
   ]
  },
  {
   "cell_type": "code",
   "execution_count": 73,
   "metadata": {},
   "outputs": [
    {
     "name": "stdout",
     "output_type": "stream",
     "text": [
      "Features shape (144, 27)\n"
     ]
    }
   ],
   "source": [
    "features = np.asarray(features)\n",
    "features = features / features.max(axis=0)\n",
    "print(\"Features shape\", features.shape)"
   ]
  },
  {
   "cell_type": "code",
   "execution_count": 74,
   "metadata": {},
   "outputs": [],
   "source": [
    "from keras.models import load_model\n",
    "model = load_model('model.h5py')"
   ]
  },
  {
   "cell_type": "code",
   "execution_count": 75,
   "metadata": {},
   "outputs": [
    {
     "data": {
      "text/plain": [
       "(144, 27)"
      ]
     },
     "execution_count": 75,
     "metadata": {},
     "output_type": "execute_result"
    }
   ],
   "source": [
    "features.shape"
   ]
  },
  {
   "cell_type": "code",
   "execution_count": 76,
   "metadata": {},
   "outputs": [],
   "source": [
    "k = model.predict_classes(features)"
   ]
  },
  {
   "cell_type": "code",
   "execution_count": 77,
   "metadata": {},
   "outputs": [
    {
     "name": "stdout",
     "output_type": "stream",
     "text": [
      "['Wood', 'Roofing']\n",
      "[105, 39]\n"
     ]
    }
   ],
   "source": [
    "jobs = list(set(k))\n",
    "counts = [list(k).count(job) for job in jobs]\n",
    "import pickle\n",
    "pickle_in = open(\"dict.pickle\",\"rb\")\n",
    "reverseDic = pickle.load(pickle_in)\n",
    "pickle_in.close()\n",
    "if jobs[0] in reverseDic:\n",
    "    jobs = [reverseDic[job] for job in jobs]\n",
    "print(jobs)\n",
    "print(counts)"
   ]
  },
  {
   "cell_type": "code",
   "execution_count": 78,
   "metadata": {},
   "outputs": [
    {
     "data": {
      "image/png": "[encoded data removed]",
      "text/plain": [
       "<Figure size 360x288 with 1 Axes>"
      ]
     },
     "metadata": {
      "needs_background": "light"
     },
     "output_type": "display_data"
    }
   ],
   "source": [
    "f, ax = plt.subplots(figsize=(5, 4))\n",
    "plt.xticks(rotation='90')\n",
    "sns.barplot(x=jobs, y=counts)\n",
    "plt.xlabel('Waste Type', fontsize=10)\n",
    "plt.ylabel('Grid Count', fontsize=10)\n",
    "plt.title('Number of Labels for Each Waste Type', fontsize=10)\n",
    "plt.savefig('result.png')"
   ]
  },
  {
   "cell_type": "code",
   "execution_count": null,
   "metadata": {},
   "outputs": [],
   "source": []
  }
 ],
 "metadata": {
  "kernelspec": {
   "display_name": "Python 3",
   "language": "python",
   "name": "python3"
  },
  "language_info": {
   "codemirror_mode": {
    "name": "ipython",
    "version": 3
   },
   "file_extension": ".py",
   "mimetype": "text/x-python",
   "name": "python",
   "nbconvert_exporter": "python",
   "pygments_lexer": "ipython3",
   "version": "3.6.5"
  }
 },
 "nbformat": 4,
 "nbformat_minor": 2
}
