{
 "cells": [
  {
   "cell_type": "code",
   "execution_count": 32,
   "metadata": {},
   "outputs": [],
   "source": [
    "import os\n",
    "import json\n",
    "for file in os.listdir(\"./imageLabel/.\"):\n",
    "    if(file.endswith(\")\")):\n",
    "        #data = json.loads(open('./imageLabel/' + file + \"/data_file.json\").read())\n",
    "        if os.path.isfile('./imageLabel/' + file + \"/data_file.json\"):\n",
    "            data = json.loads(open('./imageLabel/' + file + \"/data_file.json\").read())\n",
    "            #data[\"folder_location\"] = os.getcwd() + '/imageLabel/' + file\n",
    "            data[\"folder_location\"] = '/Users/lechn/Desktop/jasonTab/' + file\n",
    "            data[\"image_location\"] = '/Users/lechn/Desktop/East Team S2 2/' + file + \".jpg\"\n",
    "            with open('./imageLabel/' + file + \"/data_file.json\", \"w\") as write_file:\n",
    "                json.dump(data, write_file)"
   ]
  },
  {
   "cell_type": "code",
   "execution_count": 1,
   "metadata": {},
   "outputs": [
    {
     "name": "stdout",
     "output_type": "stream",
     "text": [
      "3.6.5 (default, Jun 17 2018, 12:13:06) \n",
      "[GCC 4.2.1 Compatible Apple LLVM 9.1.0 (clang-902.0.39.2)]\n"
     ]
    },
    {
     "name": "stderr",
     "output_type": "stream",
     "text": [
      "Using TensorFlow backend.\n"
     ]
    }
   ],
   "source": [
    "import pandas as pd\n",
    "import tensorflow as tf\n",
    "import sys\n",
    "print(sys.version)\n",
    "import numpy as np\n",
    "from keras.utils import to_categorical\n",
    "import matplotlib.pyplot as plt\n",
    "import scipy\n",
    "from ipywidgets import interact, widgets\n",
    "from scipy import stats\n",
    "import seaborn as sns\n",
    "import os\n",
    "import json\n",
    "from pprint import pprint\n",
    "import cv2"
   ]
  },
  {
   "cell_type": "code",
   "execution_count": 4,
   "metadata": {},
   "outputs": [
    {
     "name": "stdout",
     "output_type": "stream",
     "text": [
      "Extracting labels from file A (108)\n",
      "Extracting labels from file A (141)\n",
      "Extracting labels from file A (243)\n",
      "Extracting labels from file A (187)\n",
      "Extracting labels from file A (225)\n",
      "Extracting labels from file A (30)\n",
      "Extracting labels from file A (127)\n",
      "Extracting labels from file A (164)\n",
      "Extracting labels from file A (15)\n",
      "Extracting labels from file A (249)\n",
      "Extracting labels from file A (200)\n",
      "Extracting labels from file A (102)\n",
      "Extracting labels from file A (209)\n",
      "Extracting labels from file A (240)\n",
      "Extracting labels from file A (184)\n",
      "Extracting labels from file A (142)\n",
      "Extracting labels from file A (124)\n",
      "Extracting labels from file A (9)\n",
      "Extracting labels from file A (226)\n",
      "Extracting labels from file A (33)\n",
      "Extracting labels from file A (39)\n",
      "Extracting labels from file A (3)\n",
      "Extracting labels from file A (167)\n",
      "Extracting labels from file A (148)\n",
      "Extracting labels from file A (101)\n",
      "Extracting labels from file A (16)\n",
      "Extracting labels from file A (203)\n",
      "Extracting labels from file A (237)\n",
      "Extracting labels from file A (22)\n",
      "Extracting labels from file A (135)\n",
      "Extracting labels from file A (153)\n",
      "Extracting labels from file A (251)\n",
      "Extracting labels from file A (218)\n",
      "Extracting labels from file A (195)\n",
      "Extracting labels from file A (44)\n",
      "Extracting labels from file A (212)\n",
      "Extracting labels from file A (110)\n",
      "Extracting labels from file A (159)\n",
      "Extracting labels from file A (176)\n",
      "Extracting labels from file A (28)\n",
      "Extracting labels from file A (136)\n",
      "Extracting labels from file A (234)\n",
      "Extracting labels from file A (21)\n",
      "Extracting labels from file A (252)\n",
      "Extracting labels from file A (47)\n",
      "Extracting labels from file A (196)\n",
      "Extracting labels from file A (150)\n",
      "Extracting labels from file A (119)\n",
      "Extracting labels from file A (113)\n",
      "Extracting labels from file A (211)\n",
      "Extracting labels from file A (175)\n",
      "Extracting labels from file A (154)\n",
      "Extracting labels from file A (43)\n",
      "Extracting labels from file A (192)\n",
      "Extracting labels from file A (230)\n",
      "Extracting labels from file A (25)\n",
      "Extracting labels from file A (132)\n",
      "Extracting labels from file A (171)\n",
      "Extracting labels from file A (138)\n",
      "Extracting labels from file A (198)\n",
      "Extracting labels from file A (49)\n",
      "Extracting labels from file A (215)\n",
      "Extracting labels from file A (117)\n",
      "Extracting labels from file A (191)\n",
      "Extracting labels from file A (40)\n",
      "Extracting labels from file A (157)\n",
      "Extracting labels from file A (131)\n",
      "Extracting labels from file A (178)\n",
      "Extracting labels from file A (233)\n",
      "Extracting labels from file A (26)\n",
      "Extracting labels from file A (239)\n",
      "Extracting labels from file A (172)\n",
      "Extracting labels from file A (114)\n",
      "Extracting labels from file A (216)\n",
      "Extracting labels from file A (222)\n",
      "Extracting labels from file A (37)\n",
      "Extracting labels from file A (169)\n",
      "Extracting labels from file A (120)\n",
      "Extracting labels from file A (146)\n",
      "Extracting labels from file A (244)\n",
      "Extracting labels from file A (180)\n",
      "Extracting labels from file A (18)\n",
      "Extracting labels from file A (12)\n",
      "Extracting labels from file A (207)\n",
      "Extracting labels from file A (105)\n",
      "Extracting labels from file A (163)\n",
      "Extracting labels from file A (228)\n",
      "Extracting labels from file A (7)\n",
      "Extracting labels from file A (123)\n",
      "Extracting labels from file A (221)\n",
      "Extracting labels from file A (34)\n",
      "Extracting labels from file A (247)\n",
      "Extracting labels from file A (183)\n",
      "Extracting labels from file A (145)\n",
      "Extracting labels from file A (106)\n",
      "Extracting labels from file A (11)\n",
      "Extracting labels from file A (189)\n",
      "Extracting labels from file A (204)\n",
      "Extracting labels from file A (4)\n",
      "Extracting labels from file A (129)\n",
      "Extracting labels from file A (160)\n",
      "Extracting labels from file A (122)\n",
      "Extracting labels from file A (35)\n",
      "Extracting labels from file A (220)\n",
      "Extracting labels from file A (182)\n",
      "Extracting labels from file A (246)\n",
      "Extracting labels from file A (144)\n",
      "Extracting labels from file A (107)\n",
      "Extracting labels from file A (205)\n",
      "Extracting labels from file A (188)\n",
      "Extracting labels from file A (10)\n",
      "Extracting labels from file A (5)\n",
      "Extracting labels from file A (161)\n",
      "Extracting labels from file A (128)\n",
      "Extracting labels from file A (36)\n",
      "Extracting labels from file A (223)\n",
      "Extracting labels from file A (121)\n",
      "Extracting labels from file A (168)\n",
      "Extracting labels from file A (147)\n",
      "Extracting labels from file A (19)\n",
      "Extracting labels from file A (50)\n",
      "Extracting labels from file A (181)\n",
      "Extracting labels from file A (245)\n",
      "Extracting labels from file A (206)\n",
      "Extracting labels from file A (13)\n",
      "Extracting labels from file A (104)\n",
      "Extracting labels from file A (162)\n",
      "Extracting labels from file A (6)\n",
      "Extracting labels from file A (229)\n",
      "Extracting labels from file A (41)\n",
      "Extracting labels from file A (190)\n",
      "Extracting labels from file A (254)\n",
      "Extracting labels from file A (156)\n",
      "Extracting labels from file A (179)\n",
      "Extracting labels from file A (130)\n",
      "Extracting labels from file A (27)\n",
      "Extracting labels from file A (232)\n",
      "Extracting labels from file A (238)\n",
      "Extracting labels from file A (173)\n",
      "Extracting labels from file A (115)\n",
      "Extracting labels from file A (217)\n",
      "Extracting labels from file A (155)\n",
      "Extracting labels from file A (193)\n",
      "Extracting labels from file A (42)\n",
      "Extracting labels from file A (24)\n",
      "Extracting labels from file A (231)\n",
      "Extracting labels from file A (133)\n",
      "Extracting labels from file A (139)\n",
      "Extracting labels from file A (170)\n",
      "Extracting labels from file A (214)\n",
      "Extracting labels from file A (48)\n",
      "Extracting labels from file A (199)\n",
      "Extracting labels from file A (116)\n",
      "Extracting labels from file A (137)\n",
      "Extracting labels from file A (20)\n",
      "Extracting labels from file A (235)\n",
      "Extracting labels from file A (197)\n",
      "Extracting labels from file A (46)\n",
      "Extracting labels from file A (253)\n",
      "Extracting labels from file A (118)\n",
      "Extracting labels from file A (151)\n",
      "Extracting labels from file A (112)\n",
      "Extracting labels from file A (210)\n",
      "Extracting labels from file A (174)\n",
      "Extracting labels from file A (23)\n",
      "Extracting labels from file A (236)\n",
      "Extracting labels from file A (134)\n",
      "Extracting labels from file A (152)\n",
      "Extracting labels from file A (45)\n",
      "Extracting labels from file A (194)\n",
      "Extracting labels from file A (219)\n",
      "Extracting labels from file A (250)\n",
      "Extracting labels from file A (213)\n",
      "Extracting labels from file A (158)\n",
      "Extracting labels from file A (111)\n",
      "Extracting labels from file A (177)\n",
      "Extracting labels from file A (29)\n",
      "Extracting labels from file A (185)\n",
      "Extracting labels from file A (241)\n",
      "Extracting labels from file A (208)\n",
      "Extracting labels from file A (143)\n",
      "Extracting labels from file A (125)\n",
      "Extracting labels from file A (32)\n",
      "Extracting labels from file A (227)\n",
      "Extracting labels from file A (8)\n",
      "Extracting labels from file A (2)\n",
      "Extracting labels from file A (38)\n",
      "Extracting labels from file A (166)\n",
      "Extracting labels from file A (149)\n",
      "Extracting labels from file A (202)\n",
      "Extracting labels from file A (17)\n",
      "Extracting labels from file A (140)\n",
      "Extracting labels from file A (109)\n",
      "Extracting labels from file A (186)\n",
      "Extracting labels from file A (242)\n",
      "Extracting labels from file A (31)\n",
      "Extracting labels from file A (224)\n",
      "Extracting labels from file A (126)\n",
      "Extracting labels from file A (165)\n",
      "Extracting labels from file A (1)\n",
      "Extracting labels from file A (201)\n",
      "Extracting labels from file A (248)\n",
      "Extracting labels from file A (14)\n",
      "Extracting labels from file A (103)\n"
     ]
    }
   ],
   "source": [
    "numGrids = 12\n",
    "features = []\n",
    "y = []\n",
    "for file in os.listdir(\"./imageLabel/.\"):\n",
    "    if(file.endswith(\")\")):\n",
    "        print(\"Extracting labels from file \" + file)\n",
    "        img = cv2.imread(\"../../East Team S2 2/\" + file + \".jpg\")\n",
    "        height, width, channels = img.shape\n",
    "        gheight, gwidth = int(height/numGrids) , int(width/numGrids)\n",
    "        for index in range(numGrids**2):\n",
    "            rowIndex = index % numGrids\n",
    "            colIndex = int(index / numGrids)\n",
    "            grid = img[rowIndex * gheight : (rowIndex + 1) * gheight, colIndex * gwidth : (colIndex + 1) * gwidth, :]\n",
    "            blur = cv2.resize(img, (256, 256))\n",
    "\n",
    "            #feature extraction\n",
    "            featureList = []\n",
    "            gridRed = grid[:,:,0]\n",
    "            gridGreen = grid[:,:,1]\n",
    "            gridBlue = grid[:,:,2]\n",
    "            rbar = np.average(gridRed)\n",
    "            gbar = np.average(gridGreen)\n",
    "            bbar = np.average(gridBlue)\n",
    "            featureList.append(rbar)\n",
    "            featureList.append(gbar)\n",
    "            featureList.append(bbar)\n",
    "            featureList += np.bincount(np.ravel((gridRed/32).astype(int)), minlength = 8).tolist()\n",
    "            featureList += np.bincount(np.ravel((gridGreen/32).astype(int)), minlength = 8).tolist()\n",
    "            featureList += np.bincount(np.ravel((gridBlue/32).astype(int)), minlength = 8).tolist()\n",
    "\n",
    "            features.append(featureList)\n",
    "                    \n",
    "                    \n",
    "                    "
   ]
  },
  {
   "cell_type": "code",
   "execution_count": 39,
   "metadata": {},
   "outputs": [
    {
     "name": "stdout",
     "output_type": "stream",
     "text": [
      "Features shape (29376, 27)\n"
     ]
    }
   ],
   "source": [
    "features = np.asarray(features)\n",
    "features = features / features.max(axis=0)\n",
    "print(\"Features shape\", features.shape)"
   ]
  },
  {
   "cell_type": "code",
   "execution_count": 35,
   "metadata": {},
   "outputs": [],
   "source": [
    "from keras.models import load_model\n",
    "model = load_model('model.h5py')"
   ]
  },
  {
   "cell_type": "code",
   "execution_count": 40,
   "metadata": {},
   "outputs": [
    {
     "data": {
      "text/plain": [
       "(29376, 27)"
      ]
     },
     "execution_count": 40,
     "metadata": {},
     "output_type": "execute_result"
    }
   ],
   "source": [
    "features.shape"
   ]
  },
  {
   "cell_type": "code",
   "execution_count": 41,
   "metadata": {},
   "outputs": [],
   "source": [
    "k = model.predict_classes(features)"
   ]
  },
  {
   "cell_type": "code",
   "execution_count": 48,
   "metadata": {},
   "outputs": [
    {
     "name": "stdout",
     "output_type": "stream",
     "text": [
      "[1, 3, 4, 5, 6, 8, 9]\n",
      "[25823, 3340, 44, 30, 137, 1, 1]\n"
     ]
    }
   ],
   "source": [
    "jobs = list(set(k))\n",
    "counts = [list(k).count(job) for job in jobs]\n",
    "print(jobs)\n",
    "print(counts)"
   ]
  },
  {
   "cell_type": "code",
   "execution_count": 60,
   "metadata": {},
   "outputs": [],
   "source": [
    "import pickle\n",
    "pickle_in = open(\"dict.pickle\",\"rb\")\n",
    "reverseDic = pickle.load(pickle_in)\n",
    "if jobs[0] in reverseDic:\n",
    "    jobs = [reverseDic[job] for job in jobs]"
   ]
  },
  {
   "cell_type": "code",
   "execution_count": 49,
   "metadata": {},
   "outputs": [
    {
     "data": {
      "text/plain": [
       "Text(0.5, 1.0, 'Number of Labels for Each Waste Type')"
      ]
     },
     "execution_count": 49,
     "metadata": {},
     "output_type": "execute_result"
    },
    {
     "data": {
      "image/png": "[encoded data removed]",
      "text/plain": [
       "<Figure size 360x288 with 1 Axes>"
      ]
     },
     "metadata": {
      "needs_background": "light"
     },
     "output_type": "display_data"
    }
   ],
   "source": [
    "f, ax = plt.subplots(figsize=(5, 4))\n",
    "plt.xticks(rotation='90')\n",
    "sns.barplot(x=jobs, y=counts)\n",
    "plt.xlabel('Waste Type', fontsize=10)\n",
    "plt.ylabel('Grid Count', fontsize=10)\n",
    "plt.title('Number of Labels for Each Waste Type', fontsize=10)"
   ]
  },
  {
   "cell_type": "code",
   "execution_count": null,
   "metadata": {},
   "outputs": [],
   "source": []
  }
 ],
 "metadata": {
  "kernelspec": {
   "display_name": "Python 3",
   "language": "python",
   "name": "python3"
  },
  "language_info": {
   "codemirror_mode": {
    "name": "ipython",
    "version": 3
   },
   "file_extension": ".py",
   "mimetype": "text/x-python",
   "name": "python",
   "nbconvert_exporter": "python",
   "pygments_lexer": "ipython3",
   "version": "3.6.5"
  }
 },
 "nbformat": 4,
 "nbformat_minor": 2
}
